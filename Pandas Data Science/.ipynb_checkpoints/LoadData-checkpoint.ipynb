{
 "cells": [
  {
   "cell_type": "code",
   "execution_count": 2,
   "id": "32ccd301-aafe-4eaf-8820-81c75400545c",
   "metadata": {},
   "outputs": [],
   "source": [
    "# Load the data\n",
    "\n",
    "import pandas as pd\n",
    "df = pd.read_csv(r\"D:\\python\\Pandas Data Science\\pokemon_data.csv\")\n"
   ]
  },
  {
   "cell_type": "code",
   "execution_count": 3,
   "id": "3c4b8fdc-c207-4366-8d33-10c87bb6d242",
   "metadata": {},
   "outputs": [
    {
     "name": "stdout",
     "output_type": "stream",
     "text": [
      "       #                   Name   Type 1  Type 2  HP  Attack  Defense  \\\n",
      "0      1              Bulbasaur    Grass  Poison  45      49       49   \n",
      "1      2                Ivysaur    Grass  Poison  60      62       63   \n",
      "2      3               Venusaur    Grass  Poison  80      82       83   \n",
      "3      3  VenusaurMega Venusaur    Grass  Poison  80     100      123   \n",
      "4      4             Charmander     Fire     NaN  39      52       43   \n",
      "..   ...                    ...      ...     ...  ..     ...      ...   \n",
      "795  719                Diancie     Rock   Fairy  50     100      150   \n",
      "796  719    DiancieMega Diancie     Rock   Fairy  50     160      110   \n",
      "797  720    HoopaHoopa Confined  Psychic   Ghost  80     110       60   \n",
      "798  720     HoopaHoopa Unbound  Psychic    Dark  80     160       60   \n",
      "799  721              Volcanion     Fire   Water  80     110      120   \n",
      "\n",
      "     Sp. Atk  Sp. Def  Speed  Generation  Legendary  \n",
      "0         65       65     45           1      False  \n",
      "1         80       80     60           1      False  \n",
      "2        100      100     80           1      False  \n",
      "3        122      120     80           1      False  \n",
      "4         60       50     65           1      False  \n",
      "..       ...      ...    ...         ...        ...  \n",
      "795      100      150     50           6       True  \n",
      "796      160      110    110           6       True  \n",
      "797      150      130     70           6       True  \n",
      "798      170      130     80           6       True  \n",
      "799      130       90     70           6       True  \n",
      "\n",
      "[800 rows x 12 columns]\n"
     ]
    }
   ],
   "source": [
    "# Now we can print\n",
    "print(df)"
   ]
  },
  {
   "cell_type": "code",
   "execution_count": null,
   "id": "46426ae5-bc14-4237-acf6-6bd8ac8aa702",
   "metadata": {},
   "outputs": [],
   "source": [
    "# We can print as much we want\n",
    "\n",
    "print(df.head(5))"
   ]
  },
  {
   "cell_type": "code",
   "execution_count": null,
   "id": "788355d8-52e4-4962-bbab-82860b4d3c07",
   "metadata": {},
   "outputs": [],
   "source": [
    "# Reading data  in pandas\n",
    "# Read header\n",
    "\n",
    "print(df.columns)"
   ]
  },
  {
   "cell_type": "code",
   "execution_count": null,
   "id": "d132ec42-1993-4f8a-8401-edce595170f8",
   "metadata": {},
   "outputs": [],
   "source": [
    "#  Read the specific columns\n",
    "\n",
    "print(df[\"Name\"][0:5])"
   ]
  },
  {
   "cell_type": "code",
   "execution_count": null,
   "id": "8c84639d-c166-4e27-bb11-61011949f1ff",
   "metadata": {},
   "outputs": [],
   "source": [
    "# Read Multiple colums name\n",
    "print(df[['Name', 'Type 1', 'HP']])\n"
   ]
  },
  {
   "cell_type": "code",
   "execution_count": null,
   "id": "a04c03be-eb02-479a-83b5-21e21cca8a6e",
   "metadata": {},
   "outputs": [],
   "source": [
    "# Print the each row\n",
    "\n",
    "print(df.head(4))"
   ]
  },
  {
   "cell_type": "code",
   "execution_count": null,
   "id": "1f94c1b4-7b9f-4217-932d-5c87e30b93b1",
   "metadata": {},
   "outputs": [],
   "source": [
    "print(df.iloc[1:4])"
   ]
  },
  {
   "cell_type": "code",
   "execution_count": null,
   "id": "2c76a10f-6a4e-4a09-8fff-9f96a7e8029d",
   "metadata": {},
   "outputs": [],
   "source": [
    "# Read the specific location\n",
    "print(df.iloc[2,1])"
   ]
  },
  {
   "cell_type": "code",
   "execution_count": null,
   "id": "92c1deae-71e3-44a0-899f-a7fde0ec6bb3",
   "metadata": {},
   "outputs": [],
   "source": [
    "# Printing the index , row(more important)\n",
    "'''\n",
    "for index,row in df.iterrows():\n",
    "    print(index,row)\n",
    "# finding the specific dataset\n",
    "'''\n",
    "df.loc[df['Type 1']=='Fire']"
   ]
  },
  {
   "cell_type": "code",
   "execution_count": null,
   "id": "afdcfa12-56a6-4d6a-8205-21a5ea1e9c70",
   "metadata": {},
   "outputs": [],
   "source": [
    "# sorting / describing the data\n",
    "\n",
    "df.describe()\n",
    "df\n",
    "\n",
    "# We can short the name by the aalphabatical order\n",
    "df.sort_values('Name',ascending=True)"
   ]
  },
  {
   "cell_type": "code",
   "execution_count": null,
   "id": "3b563900-916a-4cae-9d20-52fc4d9427e3",
   "metadata": {},
   "outputs": [],
   "source": [
    "# Give multiple parameter to sort the value\n",
    "df.sort_values(['Type 1','HP'], ascending=True)"
   ]
  },
  {
   "cell_type": "markdown",
   "id": "0d2ae1d1",
   "metadata": {},
   "source": [
    "# Making Changes to the Data"
   ]
  },
  {
   "cell_type": "code",
   "execution_count": null,
   "id": "179beb09",
   "metadata": {},
   "outputs": [],
   "source": [
    "df['Total']=df['HP']+df['Attack']+df['Defense']+df['Sp. Atk']+df['Sp. Def']+df['Speed']\n",
    "df.head() # Here we can see the one new columns add that sum of the abpve of the value in the output\n"
   ]
  },
  {
   "cell_type": "code",
   "execution_count": null,
   "id": "94df98fd",
   "metadata": {},
   "outputs": [],
   "source": [
    "# Drop some of the columns\n",
    "df=df.drop(columns=['Total'])\n",
    "df.head(5)"
   ]
  },
  {
   "cell_type": "code",
   "execution_count": null,
   "id": "6e3de451",
   "metadata": {},
   "outputs": [],
   "source": [
    "#different way to sum of the number\n",
    "\n",
    "df['Total']=df.iloc[:,4:10].sum(axis=1)\n",
    "df.head(5)"
   ]
  },
  {
   "cell_type": "markdown",
   "id": "0a653cb3",
   "metadata": {},
   "source": [
    "# Modified CVS saved in the local disk"
   ]
  },
  {
   "cell_type": "code",
   "execution_count": null,
   "id": "e9f6529c",
   "metadata": {},
   "outputs": [],
   "source": [
    "df.to_csv(\"modified.csv\",index=False)\n"
   ]
  },
  {
   "cell_type": "code",
   "execution_count": null,
   "id": "d233bd77",
   "metadata": {},
   "outputs": [],
   "source": [
    "# Save into the text file\n",
    "\n",
    "df.to_csv(\"modified.txt\", index= False, sep='\\t')"
   ]
  },
  {
   "cell_type": "markdown",
   "id": "5f697c6e",
   "metadata": {},
   "source": [
    "# Filtering the Data"
   ]
  },
  {
   "cell_type": "code",
   "execution_count": null,
   "id": "bc2c95bc",
   "metadata": {},
   "outputs": [],
   "source": [
    "new_df=df.loc[(df['Type 1']=='Grass') & (df['Type 2']=='Poison')& (df['HP']>70)]\n",
    "# new_df.to_csv('Filtered_data.csv')\n",
    "df=new_df.drop(new_df.index[0])\n",
    "print(df)"
   ]
  },
  {
   "cell_type": "code",
   "execution_count": null,
   "id": "94c7136c",
   "metadata": {},
   "outputs": [],
   "source": [
    "# filter by the name \"Mega\" contain in there name\n",
    "df.loc[df['Name'].str.contains('Mega')]"
   ]
  },
  {
   "cell_type": "code",
   "execution_count": null,
   "id": "97945a27",
   "metadata": {},
   "outputs": [],
   "source": [
    "# Filter by not conatin mega in there name\n",
    "df.loc[~df['Name'].str.contains('Mega')]"
   ]
  },
  {
   "cell_type": "code",
   "execution_count": null,
   "id": "c6b2b71d",
   "metadata": {},
   "outputs": [],
   "source": [
    "\n",
    "import re\n",
    "df.loc[df['Type 1'].str.contains('Fire|Grass',flags=re.I,regex=True)]"
   ]
  },
  {
   "cell_type": "code",
   "execution_count": null,
   "id": "26fcf403",
   "metadata": {},
   "outputs": [],
   "source": [
    "\n",
    "import re\n",
    "df.loc[df['Name'].str.contains('pi[a-z]*',flags=re.I,regex=True)]"
   ]
  },
  {
   "cell_type": "markdown",
   "id": "48897e45",
   "metadata": {},
   "source": [
    "# Conditional Changes"
   ]
  },
  {
   "cell_type": "code",
   "execution_count": null,
   "id": "d0260a63",
   "metadata": {},
   "outputs": [],
   "source": [
    "df.loc[df['Type 1']=='Flamer','Type 1']='Fire'\n",
    "df"
   ]
  },
  {
   "cell_type": "code",
   "execution_count": null,
   "id": "33910856",
   "metadata": {},
   "outputs": [],
   "source": [
    "df.loc[df['Type 1']=='Fire','Legendary']=True\n",
    "df"
   ]
  },
  {
   "cell_type": "code",
   "execution_count": null,
   "id": "6198a69b",
   "metadata": {},
   "outputs": [],
   "source": [
    "df.loc[df['Total']>500,['Generation','Legendary']]='TEST VALUE'"
   ]
  },
  {
   "cell_type": "code",
   "execution_count": null,
   "id": "36e33049",
   "metadata": {},
   "outputs": [],
   "source": [
    "df.loc[df['Total']>500,['Generation','Legendary']]=['Test 1','Test 2']\n",
    "df"
   ]
  },
  {
   "cell_type": "markdown",
   "id": "48ade6bc",
   "metadata": {},
   "source": [
    "# Aggregate Statistics( Groupby)"
   ]
  },
  {
   "cell_type": "code",
   "execution_count": 8,
   "id": "73ae2f89",
   "metadata": {},
   "outputs": [
    {
     "name": "stdout",
     "output_type": "stream",
     "text": [
      "                   #         HP      Attack    Defense    Sp. Atk    Sp. Def  \\\n",
      "Type 1                                                                         \n",
      "Bug       334.492754  56.884058   70.971014  70.724638  53.869565  64.797101   \n",
      "Dark      461.354839  66.806452   88.387097  70.225806  74.645161  69.516129   \n",
      "Dragon    474.375000  83.312500  112.125000  86.375000  96.843750  88.843750   \n",
      "Electric  363.500000  59.795455   69.090909  66.295455  90.022727  73.704545   \n",
      "Fairy     449.529412  74.117647   61.529412  65.705882  78.529412  84.705882   \n",
      "\n",
      "              Speed  Generation  Legendary       Total  \n",
      "Type 1                                                  \n",
      "Bug       61.681159    3.217391   0.000000  378.927536  \n",
      "Dark      76.161290    4.032258   0.064516  445.741935  \n",
      "Dragon    83.031250    3.875000   0.375000  550.531250  \n",
      "Electric  84.500000    3.272727   0.090909  443.409091  \n",
      "Fairy     48.588235    4.117647   0.058824  413.176471  \n"
     ]
    }
   ],
   "source": [
    "import pandas as pd\n",
    "df=pd.read_csv(\"modified.csv\")\n",
    "df_grouped = df.groupby(\"Type 1\").mean(numeric_only=True)\n",
    "print(df_grouped.head())\n",
    "\n",
    "\n"
   ]
  },
  {
   "cell_type": "code",
   "execution_count": null,
   "id": "c9ed9497-c58b-4e82-a196-3d99f6203467",
   "metadata": {},
   "outputs": [],
   "source": []
  }
 ],
 "metadata": {
  "kernelspec": {
   "display_name": "Python 3 (ipykernel)",
   "language": "python",
   "name": "python3"
  },
  "language_info": {
   "codemirror_mode": {
    "name": "ipython",
    "version": 3
   },
   "file_extension": ".py",
   "mimetype": "text/x-python",
   "name": "python",
   "nbconvert_exporter": "python",
   "pygments_lexer": "ipython3",
   "version": "3.12.5"
  }
 },
 "nbformat": 4,
 "nbformat_minor": 5
}
