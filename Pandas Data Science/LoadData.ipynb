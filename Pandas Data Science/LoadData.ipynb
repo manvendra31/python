{
 "cells": [
  {
   "cell_type": "code",
   "execution_count": null,
   "id": "32ccd301-aafe-4eaf-8820-81c75400545c",
   "metadata": {},
   "outputs": [],
   "source": [
    "# Load the data\n",
    "\n",
    "import pandas as pd\n",
    "df = pd.read_csv(r\"D:\\python\\Pandas Data Science\\pokemon_data.csv\")\n"
   ]
  },
  {
   "cell_type": "code",
   "execution_count": null,
   "id": "3c4b8fdc-c207-4366-8d33-10c87bb6d242",
   "metadata": {},
   "outputs": [],
   "source": [
    "# Now we can print\n",
    "print(df)"
   ]
  },
  {
   "cell_type": "code",
   "execution_count": null,
   "id": "46426ae5-bc14-4237-acf6-6bd8ac8aa702",
   "metadata": {},
   "outputs": [],
   "source": [
    "# We can print as much we want\n",
    "\n",
    "print(df.head(5))"
   ]
  },
  {
   "cell_type": "code",
   "execution_count": null,
   "id": "788355d8-52e4-4962-bbab-82860b4d3c07",
   "metadata": {},
   "outputs": [],
   "source": [
    "# Reading data  in pandas\n",
    "# Read header\n",
    "\n",
    "print(df.columns)"
   ]
  },
  {
   "cell_type": "code",
   "execution_count": null,
   "id": "d132ec42-1993-4f8a-8401-edce595170f8",
   "metadata": {},
   "outputs": [],
   "source": [
    "#  Read the specific columns\n",
    "\n",
    "print(df[\"Name\"][0:5])"
   ]
  },
  {
   "cell_type": "code",
   "execution_count": null,
   "id": "8c84639d-c166-4e27-bb11-61011949f1ff",
   "metadata": {},
   "outputs": [],
   "source": [
    "# Read Multiple colums name\n",
    "print(df[['Name', 'Type 1', 'HP']])\n"
   ]
  },
  {
   "cell_type": "code",
   "execution_count": null,
   "id": "a04c03be-eb02-479a-83b5-21e21cca8a6e",
   "metadata": {},
   "outputs": [],
   "source": [
    "# Print the each row\n",
    "\n",
    "print(df.head(4))"
   ]
  },
  {
   "cell_type": "code",
   "execution_count": null,
   "id": "1f94c1b4-7b9f-4217-932d-5c87e30b93b1",
   "metadata": {},
   "outputs": [],
   "source": [
    "print(df.iloc[1:4])"
   ]
  },
  {
   "cell_type": "code",
   "execution_count": null,
   "id": "2c76a10f-6a4e-4a09-8fff-9f96a7e8029d",
   "metadata": {},
   "outputs": [],
   "source": [
    "# Read the specific location\n",
    "print(df.iloc[2,1])"
   ]
  },
  {
   "cell_type": "code",
   "execution_count": null,
   "id": "92c1deae-71e3-44a0-899f-a7fde0ec6bb3",
   "metadata": {},
   "outputs": [],
   "source": [
    "# Printing the index , row(more important)\n",
    "'''\n",
    "for index,row in df.iterrows():\n",
    "    print(index,row)\n",
    "# finding the specific dataset\n",
    "'''\n",
    "df.loc[df['Type 1']=='Fire']"
   ]
  },
  {
   "cell_type": "code",
   "execution_count": null,
   "id": "afdcfa12-56a6-4d6a-8205-21a5ea1e9c70",
   "metadata": {},
   "outputs": [],
   "source": [
    "# sorting / describing the data\n",
    "\n",
    "df.describe()\n",
    "df\n",
    "\n",
    "# We can short the name by the aalphabatical order\n",
    "df.sort_values('Name',ascending=True)"
   ]
  },
  {
   "cell_type": "code",
   "execution_count": null,
   "id": "3b563900-916a-4cae-9d20-52fc4d9427e3",
   "metadata": {},
   "outputs": [],
   "source": [
    "# Give multiple parameter to sort the value\n",
    "df.sort_values(['Type 1','HP'], ascending=True)"
   ]
  },
  {
   "cell_type": "markdown",
   "id": "0d2ae1d1",
   "metadata": {},
   "source": [
    "# Making Changes to the Data"
   ]
  },
  {
   "cell_type": "code",
   "execution_count": null,
   "id": "179beb09",
   "metadata": {},
   "outputs": [],
   "source": [
    "df['Total']=df['HP']+df['Attack']+df['Defense']+df['Sp. Atk']+df['Sp. Def']+df['Speed']\n",
    "df.head() # Here we can see the one new columns add that sum of the abpve of the value in the output\n"
   ]
  },
  {
   "cell_type": "code",
   "execution_count": null,
   "id": "94df98fd",
   "metadata": {},
   "outputs": [],
   "source": [
    "# Drop some of the columns\n",
    "df=df.drop(columns=['Total'])\n",
    "df.head(5)"
   ]
  },
  {
   "cell_type": "code",
   "execution_count": 41,
   "id": "6e3de451",
   "metadata": {},
   "outputs": [
    {
     "data": {
      "text/html": [
       "<div>\n",
       "<style scoped>\n",
       "    .dataframe tbody tr th:only-of-type {\n",
       "        vertical-align: middle;\n",
       "    }\n",
       "\n",
       "    .dataframe tbody tr th {\n",
       "        vertical-align: top;\n",
       "    }\n",
       "\n",
       "    .dataframe thead th {\n",
       "        text-align: right;\n",
       "    }\n",
       "</style>\n",
       "<table border=\"1\" class=\"dataframe\">\n",
       "  <thead>\n",
       "    <tr style=\"text-align: right;\">\n",
       "      <th></th>\n",
       "      <th>#</th>\n",
       "      <th>Name</th>\n",
       "      <th>Type 1</th>\n",
       "      <th>Type 2</th>\n",
       "      <th>HP</th>\n",
       "      <th>Attack</th>\n",
       "      <th>Defense</th>\n",
       "      <th>Sp. Atk</th>\n",
       "      <th>Sp. Def</th>\n",
       "      <th>Speed</th>\n",
       "      <th>Generation</th>\n",
       "      <th>Legendary</th>\n",
       "      <th>Total</th>\n",
       "    </tr>\n",
       "  </thead>\n",
       "  <tbody>\n",
       "    <tr>\n",
       "      <th>0</th>\n",
       "      <td>1</td>\n",
       "      <td>Bulbasaur</td>\n",
       "      <td>Grass</td>\n",
       "      <td>Poison</td>\n",
       "      <td>45</td>\n",
       "      <td>49</td>\n",
       "      <td>49</td>\n",
       "      <td>65</td>\n",
       "      <td>65</td>\n",
       "      <td>45</td>\n",
       "      <td>1</td>\n",
       "      <td>False</td>\n",
       "      <td>318</td>\n",
       "    </tr>\n",
       "    <tr>\n",
       "      <th>1</th>\n",
       "      <td>2</td>\n",
       "      <td>Ivysaur</td>\n",
       "      <td>Grass</td>\n",
       "      <td>Poison</td>\n",
       "      <td>60</td>\n",
       "      <td>62</td>\n",
       "      <td>63</td>\n",
       "      <td>80</td>\n",
       "      <td>80</td>\n",
       "      <td>60</td>\n",
       "      <td>1</td>\n",
       "      <td>False</td>\n",
       "      <td>405</td>\n",
       "    </tr>\n",
       "    <tr>\n",
       "      <th>2</th>\n",
       "      <td>3</td>\n",
       "      <td>Venusaur</td>\n",
       "      <td>Grass</td>\n",
       "      <td>Poison</td>\n",
       "      <td>80</td>\n",
       "      <td>82</td>\n",
       "      <td>83</td>\n",
       "      <td>100</td>\n",
       "      <td>100</td>\n",
       "      <td>80</td>\n",
       "      <td>1</td>\n",
       "      <td>False</td>\n",
       "      <td>525</td>\n",
       "    </tr>\n",
       "    <tr>\n",
       "      <th>3</th>\n",
       "      <td>3</td>\n",
       "      <td>VenusaurMega Venusaur</td>\n",
       "      <td>Grass</td>\n",
       "      <td>Poison</td>\n",
       "      <td>80</td>\n",
       "      <td>100</td>\n",
       "      <td>123</td>\n",
       "      <td>122</td>\n",
       "      <td>120</td>\n",
       "      <td>80</td>\n",
       "      <td>1</td>\n",
       "      <td>False</td>\n",
       "      <td>625</td>\n",
       "    </tr>\n",
       "    <tr>\n",
       "      <th>4</th>\n",
       "      <td>4</td>\n",
       "      <td>Charmander</td>\n",
       "      <td>Fire</td>\n",
       "      <td>NaN</td>\n",
       "      <td>39</td>\n",
       "      <td>52</td>\n",
       "      <td>43</td>\n",
       "      <td>60</td>\n",
       "      <td>50</td>\n",
       "      <td>65</td>\n",
       "      <td>1</td>\n",
       "      <td>False</td>\n",
       "      <td>309</td>\n",
       "    </tr>\n",
       "  </tbody>\n",
       "</table>\n",
       "</div>"
      ],
      "text/plain": [
       "   #                   Name Type 1  Type 2  HP  Attack  Defense  Sp. Atk  \\\n",
       "0  1              Bulbasaur  Grass  Poison  45      49       49       65   \n",
       "1  2                Ivysaur  Grass  Poison  60      62       63       80   \n",
       "2  3               Venusaur  Grass  Poison  80      82       83      100   \n",
       "3  3  VenusaurMega Venusaur  Grass  Poison  80     100      123      122   \n",
       "4  4             Charmander   Fire     NaN  39      52       43       60   \n",
       "\n",
       "   Sp. Def  Speed  Generation  Legendary  Total  \n",
       "0       65     45           1      False    318  \n",
       "1       80     60           1      False    405  \n",
       "2      100     80           1      False    525  \n",
       "3      120     80           1      False    625  \n",
       "4       50     65           1      False    309  "
      ]
     },
     "execution_count": 41,
     "metadata": {},
     "output_type": "execute_result"
    }
   ],
   "source": [
    "#different way to sum of the number\n",
    "\n",
    "df['Total']=df.iloc[:,4:10].sum(axis=1)\n",
    "df.head(5)"
   ]
  },
  {
   "cell_type": "markdown",
   "id": "0a653cb3",
   "metadata": {},
   "source": [
    "# Modified CVS saved in the local disk"
   ]
  },
  {
   "cell_type": "code",
   "execution_count": null,
   "id": "e9f6529c",
   "metadata": {},
   "outputs": [],
   "source": [
    "df.to_csv(\"modified.csv\",index=False)\n"
   ]
  },
  {
   "cell_type": "code",
   "execution_count": 44,
   "id": "d233bd77",
   "metadata": {},
   "outputs": [],
   "source": [
    "# Save into the text file\n",
    "\n",
    "df.to_csv(\"modified.txt\", index= False, sep='\\t')"
   ]
  }
 ],
 "metadata": {
  "kernelspec": {
   "display_name": "Python 3",
   "language": "python",
   "name": "python3"
  },
  "language_info": {
   "codemirror_mode": {
    "name": "ipython",
    "version": 3
   },
   "file_extension": ".py",
   "mimetype": "text/x-python",
   "name": "python",
   "nbconvert_exporter": "python",
   "pygments_lexer": "ipython3",
   "version": "3.12.5"
  }
 },
 "nbformat": 4,
 "nbformat_minor": 5
}
